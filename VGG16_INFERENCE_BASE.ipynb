{
 "cells": [
  {
   "cell_type": "markdown",
   "metadata": {},
   "source": [
    "# Importing the Libraries"
   ]
  },
  {
   "cell_type": "code",
   "execution_count": null,
   "metadata": {},
   "outputs": [],
   "source": [
    "import numpy as np\n",
    "import tensorflow as tf\n",
    "import os\n",
    "import io\n",
    "from PIL import Image\n",
    "import warnings\n",
    "warnings.filterwarnings('ignore')"
   ]
  },
  {
   "cell_type": "markdown",
   "metadata": {},
   "source": [
    "# Inference Function"
   ]
  },
  {
   "cell_type": "code",
   "execution_count": null,
   "metadata": {},
   "outputs": [],
   "source": [
    "def classify(image, fit_to_square=True):\n",
    "        '''\n",
    "        Returns: class_name\n",
    "        '''\n",
    "        Classifier = tf.keras.models.load_model('text_classifier_260.h5')\n",
    "        Classes = ['inverted', 'upright']\n",
    "        dsize = Classifier.input_shape[1:3]\n",
    "        if fit_to_square:\n",
    "            \n",
    "            W, H = image.size\n",
    "            dim = W if W > H else H\n",
    "            base = Image.new('RGB', (dim, dim), color=(255, 255, 255))\n",
    "            padd = (dim - W) // 2, (dim - H) // 2\n",
    "            base.paste(image, padd)\n",
    "            base.thumbnail(dsize, Image.ANTIALIAS)\n",
    "            img = np.float32(base) / 255.0\n",
    "        else:\n",
    "            img = np.float32(image.resize(dsize)) / 255.0\n",
    "\n",
    "        class_ = Classifier.predict(np.expand_dims(img, axis=0))\n",
    "        return Classes[np.argmax(class_[0])]\n"
   ]
  },
  {
   "cell_type": "markdown",
   "metadata": {},
   "source": [
    "# Passing Image to Inference"
   ]
  },
  {
   "cell_type": "code",
   "execution_count": null,
   "metadata": {
    "scrolled": true
   },
   "outputs": [],
   "source": [
    "im1 = r'C:\\Users\\Karthik\\Computer-Vision-Math-Magic-vs-AI\\inversion\\data\\0.png'\n",
    "image = Image.open(im1)\n",
    "newsize = (224, 224) \n",
    "image = image.resize(newsize) \n",
    "result = classify(image)\n",
    "print(result)"
   ]
  }
 ],
 "metadata": {
  "kernelspec": {
   "display_name": "Python 3",
   "language": "python",
   "name": "python3"
  },
  "language_info": {
   "codemirror_mode": {
    "name": "ipython",
    "version": 3
   },
   "file_extension": ".py",
   "mimetype": "text/x-python",
   "name": "python",
   "nbconvert_exporter": "python",
   "pygments_lexer": "ipython3",
   "version": "3.7.9"
  }
 },
 "nbformat": 4,
 "nbformat_minor": 4
}
